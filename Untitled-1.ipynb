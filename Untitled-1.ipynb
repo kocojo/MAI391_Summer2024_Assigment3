{
 "cells": [
  {
   "cell_type": "markdown",
   "metadata": {},
   "source": [
    "#MAI391 – ASSIGNMENT 3\n",
    "Deadline: 23h50’, 14/07/2024\n",
    "\n",
    "In this assignment, you are required to work in a group and complete the given\n",
    "tasks. Namely, you will implement **gradient descent** and **linear regression** from\n",
    "scratch using Python with the help of following tasks:"
   ]
  },
  {
   "cell_type": "markdown",
   "metadata": {},
   "source": [
    "1. Look for a suitable secondary data\n",
    "Hint: Any topic of your choice with a minimum of 100 observations."
   ]
  },
  {
   "cell_type": "code",
   "execution_count": null,
   "metadata": {},
   "outputs": [],
   "source": []
  },
  {
   "cell_type": "markdown",
   "metadata": {},
   "source": [
    "2. Import Libraries and load the data\n",
    "Hint: Import essential modules and helper functions from NumPy and Matplotlib."
   ]
  },
  {
   "cell_type": "code",
   "execution_count": null,
   "metadata": {},
   "outputs": [],
   "source": []
  },
  {
   "cell_type": "markdown",
   "metadata": {},
   "source": [
    "3. Visualize the Data\n",
    "Hint: To understand the data, you can use a scatter plot for visualization."
   ]
  },
  {
   "cell_type": "code",
   "execution_count": null,
   "metadata": {},
   "outputs": [],
   "source": []
  },
  {
   "cell_type": "markdown",
   "metadata": {},
   "source": [
    "4. Compute the Cost Function J(θ)\n",
    "Hint: The objective of linear regression is to minimize the cost function\n",
    "\n",
    "$$\n",
    "J(\\theta) = \\frac{1}{2n} \\sum_{i=1}^{n} \\left( f_\\theta \\left( x^{(i)} \\right) - y^{(i)} \\right)^2\n",
    "$$\n",
    "where fθ(x) is given by the linear model $$f_\\theta(x) = \\theta^\\top x = \\theta_0 + \\theta_1 x_1$$\n"
   ]
  },
  {
   "cell_type": "code",
   "execution_count": null,
   "metadata": {},
   "outputs": [],
   "source": []
  },
  {
   "cell_type": "markdown",
   "metadata": {},
   "source": [
    "### 5. Implement Gradient Descent\n",
    "\n",
    "**Hint:** _Minimize the cost function_ \\( J(\\theta) \\) _by updating and repeating the below equation_\n",
    "\n",
    "$$\n",
    "\\theta_j := \\theta_j - \\gamma \\frac{1}{n} \\sum_{i=1}^{n} (f_\\theta (x^{(i)}) - y^{(i)}) x_j^{(i)}\n",
    "$$\n",
    "\n",
    "_(simultaneously update $J(\\theta)$ for all \\(j\\))._\n"
   ]
  },
  {
   "cell_type": "code",
   "execution_count": null,
   "metadata": {},
   "outputs": [],
   "source": []
  },
  {
   "cell_type": "markdown",
   "metadata": {},
   "source": [
    "### 6. Visualizing the Cost Function $J(\\theta)$\n",
    "\n",
    "**Hint:** _You will plot the cost over a 3-dimensional grid of $\\theta_0$, $\\theta_1$, and $J(\\theta)$ values._\n"
   ]
  },
  {
   "cell_type": "code",
   "execution_count": null,
   "metadata": {},
   "outputs": [],
   "source": []
  },
  {
   "cell_type": "markdown",
   "metadata": {},
   "source": [
    "### 7. Plotting the Convergence\n",
    "\n",
    "**Hint:** _Plot $J(\\theta)$ against the number of iterations of gradient descent._\n"
   ]
  },
  {
   "cell_type": "code",
   "execution_count": null,
   "metadata": {},
   "outputs": [],
   "source": []
  },
  {
   "cell_type": "markdown",
   "metadata": {},
   "source": [
    "### 8. Training Data with Univariate Linear Regression Fit (Best Fit Line)\n",
    "**Hint:** Correctly implemented and run gradient descent and arrived at the final\n",
    "parameters of the model, we can use these parameters to plot the linear fit line."
   ]
  },
  {
   "cell_type": "code",
   "execution_count": null,
   "metadata": {},
   "outputs": [],
   "source": []
  },
  {
   "cell_type": "markdown",
   "metadata": {},
   "source": [
    "### 9. Inference using the optimized $\\theta$ values\n",
    "\n",
    "**Hint:** _Using the final values for $\\theta$ to make predictions, $f_\\theta(x) = \\theta^\\top x$._\n"
   ]
  },
  {
   "cell_type": "code",
   "execution_count": null,
   "metadata": {},
   "outputs": [],
   "source": []
  },
  {
   "cell_type": "markdown",
   "metadata": {},
   "source": [
    "<p><span style=\"color:red;\"><b>Submission:</b></span> Each submission <span style=\"color:blue;\">must</span> consist of</p>\n",
    "\n",
    "- Your Python source codes.\n",
    "- A brief report explaining your work.\n"
   ]
  }
 ],
 "metadata": {
  "language_info": {
   "name": "python"
  }
 },
 "nbformat": 4,
 "nbformat_minor": 2
}
